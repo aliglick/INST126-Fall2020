{
 "cells": [
  {
   "cell_type": "code",
   "execution_count": 2,
   "metadata": {},
   "outputs": [
    {
     "name": "stdout",
     "output_type": "stream",
     "text": [
      "Choose an operation: \n",
      "1. Addition\n",
      "2. Subtraction\n",
      "3. Multiplication\n",
      "4. Division\n",
      "5. Exponent\n",
      "Enter the operation of your choice: Exponent\n",
      "Enter first number: 5\n",
      "Enter second number: 8\n",
      "5.0 ** 8.0 = 390625.0\n"
     ]
    }
   ],
   "source": [
    "# Function that adds two values\n",
    "def add(num1, num2):\n",
    "    return num1 + num2\n",
    "\n",
    "# Function that subtracts two values\n",
    "def subtract(num1, num2):\n",
    "    return num1 - num2\n",
    "\n",
    "# Function that multiplies two values\n",
    "def multiply(num1, num2):\n",
    "    return num1 * num2\n",
    "\n",
    "# Function that divides two values\n",
    "def divide(num1, num2):\n",
    "    return num1 / num2\n",
    "\n",
    "# Function that takes the exponent of a value\n",
    "def exponent(num1, num2):\n",
    "    return num1 ** num2\n",
    "\n",
    "print(\"Choose an operation: \")\n",
    "print(\"1. Addition\")\n",
    "print(\"2. Subtraction\")\n",
    "print(\"3. Multiplication\")\n",
    "print(\"4. Division\")\n",
    "print(\"5. Exponent\")\n",
    "\n",
    "while True:\n",
    "    # User input\n",
    "    operation = input(\"Enter the operation of your choice: \")\n",
    "\n",
    "    if operation in ('Addition', 'Subtraction', 'Multiplication', 'Division', 'Exponent'):\n",
    "        \n",
    "        # User input\n",
    "        val1 = float(input(\"Enter first number: \"))\n",
    "        val2 = float(input(\"Enter second number: \"))\n",
    "\n",
    "        # Condition to perform respective operation\n",
    "        if operation == 'Addition':\n",
    "            print(val1, \"+\", val2, \"=\", add(val1, val2))\n",
    "\n",
    "        elif operation == 'Subtraction':\n",
    "            print(val1, \"-\", val2, \"=\", subtract(val1, val2))\n",
    "\n",
    "        elif operation == 'Multiplication':\n",
    "            print(val1, \"*\", val2, \"=\", multiply(val1, val2))\n",
    "\n",
    "        elif operation == 'Division':\n",
    "            print(val1, \"/\", val2, \"=\", divide(val1, val2))\n",
    "            \n",
    "        elif operation == 'Exponent':\n",
    "            print(val1, \"**\", val2, \"=\", exponent(val1, val2))\n",
    "        break\n",
    "        \n",
    "    else:\n",
    "        print(\"Input Is Invalid\")"
   ]
  }
 ],
 "metadata": {
  "kernelspec": {
   "display_name": "Python 3",
   "language": "python",
   "name": "python3"
  },
  "language_info": {
   "codemirror_mode": {
    "name": "ipython",
    "version": 3
   },
   "file_extension": ".py",
   "mimetype": "text/x-python",
   "name": "python",
   "nbconvert_exporter": "python",
   "pygments_lexer": "ipython3",
   "version": "3.8.5"
  }
 },
 "nbformat": 4,
 "nbformat_minor": 4
}
